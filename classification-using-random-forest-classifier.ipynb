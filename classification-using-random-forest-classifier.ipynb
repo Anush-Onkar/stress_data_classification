{
 "cells": [
  {
   "cell_type": "code",
   "execution_count": null,
   "metadata": {
    "_cell_guid": "b1076dfc-b9ad-4769-8c92-a6c4dae69d19",
    "_uuid": "8f2839f25d086af736a60e9eeb907d3b93b6e0e5",
    "execution": {
     "iopub.execute_input": "2023-09-22T11:45:07.613041Z",
     "iopub.status.busy": "2023-09-22T11:45:07.612065Z",
     "iopub.status.idle": "2023-09-22T11:45:07.622975Z",
     "shell.execute_reply": "2023-09-22T11:45:07.621857Z",
     "shell.execute_reply.started": "2023-09-22T11:45:07.613002Z"
    }
   },
   "outputs": [],
   "source": [
    "import numpy as np # linear algebra\n",
    "import pandas as pd # data processing, CSV file I/O (e.g. pd.read_csv)\n",
    "import seaborn as sns\n",
    "import matplotlib.pyplot as plt\n",
    "from sklearn.ensemble import RandomForestClassifier\n",
    "from sklearn.metrics import accuracy_score, classification_report, confusion_matrix\n",
    "from sklearn.model_selection import train_test_split\n"
   ]
  },
  {
   "cell_type": "code",
   "execution_count": null,
   "metadata": {
    "execution": {
     "iopub.execute_input": "2023-09-22T11:45:07.625419Z",
     "iopub.status.busy": "2023-09-22T11:45:07.624594Z",
     "iopub.status.idle": "2023-09-22T11:45:07.641625Z",
     "shell.execute_reply": "2023-09-22T11:45:07.640696Z",
     "shell.execute_reply.started": "2023-09-22T11:45:07.625387Z"
    }
   },
   "outputs": [],
   "source": [
    "#Read the csv file\n",
    "df=pd.read_csv('Stress-Lysis.csv')"
   ]
  },
  {
   "cell_type": "code",
   "execution_count": null,
   "metadata": {
    "execution": {
     "iopub.execute_input": "2023-09-22T11:45:07.643935Z",
     "iopub.status.busy": "2023-09-22T11:45:07.643609Z",
     "iopub.status.idle": "2023-09-22T11:45:07.658355Z",
     "shell.execute_reply": "2023-09-22T11:45:07.657258Z",
     "shell.execute_reply.started": "2023-09-22T11:45:07.643884Z"
    }
   },
   "outputs": [],
   "source": [
    "#view the dataframe \n",
    "df.head()"
   ]
  },
  {
   "cell_type": "code",
   "execution_count": null,
   "metadata": {
    "execution": {
     "iopub.execute_input": "2023-09-22T11:45:07.660361Z",
     "iopub.status.busy": "2023-09-22T11:45:07.659600Z",
     "iopub.status.idle": "2023-09-22T11:45:07.684732Z",
     "shell.execute_reply": "2023-09-22T11:45:07.683993Z",
     "shell.execute_reply.started": "2023-09-22T11:45:07.660330Z"
    }
   },
   "outputs": [],
   "source": [
    "#summarize the data present in the data frame \n",
    "df.describe()"
   ]
  },
  {
   "cell_type": "code",
   "execution_count": null,
   "metadata": {
    "execution": {
     "iopub.execute_input": "2023-09-22T11:45:07.687326Z",
     "iopub.status.busy": "2023-09-22T11:45:07.686473Z",
     "iopub.status.idle": "2023-09-22T11:45:07.698353Z",
     "shell.execute_reply": "2023-09-22T11:45:07.697494Z",
     "shell.execute_reply.started": "2023-09-22T11:45:07.687290Z"
    }
   },
   "outputs": [],
   "source": [
    "df.info()"
   ]
  },
  {
   "cell_type": "code",
   "execution_count": null,
   "metadata": {
    "execution": {
     "iopub.execute_input": "2023-09-22T11:45:07.700798Z",
     "iopub.status.busy": "2023-09-22T11:45:07.699608Z",
     "iopub.status.idle": "2023-09-22T11:45:07.978862Z",
     "shell.execute_reply": "2023-09-22T11:45:07.977759Z",
     "shell.execute_reply.started": "2023-09-22T11:45:07.700757Z"
    }
   },
   "outputs": [],
   "source": [
    "#Visualize count of the stress data \n",
    "sns.catplot(x=\"Stress Level\", data=df , kind='count')"
   ]
  },
  {
   "cell_type": "code",
   "execution_count": null,
   "metadata": {
    "execution": {
     "iopub.execute_input": "2023-09-22T11:45:07.980526Z",
     "iopub.status.busy": "2023-09-22T11:45:07.980130Z",
     "iopub.status.idle": "2023-09-22T11:45:07.990230Z",
     "shell.execute_reply": "2023-09-22T11:45:07.989132Z",
     "shell.execute_reply.started": "2023-09-22T11:45:07.980489Z"
    }
   },
   "outputs": [],
   "source": [
    "#Split data into train and test \n",
    "x = df.drop([\"Stress Level\"] , axis=1)\n",
    "y = df['Stress Level']\n",
    "x_train,x_test,y_train,y_test = train_test_split(x, y, test_size=0.2, random_state=0)"
   ]
  },
  {
   "cell_type": "code",
   "execution_count": null,
   "metadata": {
    "execution": {
     "iopub.execute_input": "2023-09-22T11:45:07.993528Z",
     "iopub.status.busy": "2023-09-22T11:45:07.992130Z",
     "iopub.status.idle": "2023-09-22T11:45:08.032096Z",
     "shell.execute_reply": "2023-09-22T11:45:08.030977Z",
     "shell.execute_reply.started": "2023-09-22T11:45:07.993497Z"
    }
   },
   "outputs": [],
   "source": [
    "#run a random forest classifier on the data\n",
    "rf_classifier = RandomForestClassifier(n_estimators=10, random_state=0) \n",
    "rf_classifier.fit(x_train, y_train)"
   ]
  },
  {
   "cell_type": "code",
   "execution_count": null,
   "metadata": {
    "execution": {
     "iopub.execute_input": "2023-09-22T11:45:08.033947Z",
     "iopub.status.busy": "2023-09-22T11:45:08.033556Z",
     "iopub.status.idle": "2023-09-22T11:45:08.042863Z",
     "shell.execute_reply": "2023-09-22T11:45:08.042104Z",
     "shell.execute_reply.started": "2023-09-22T11:45:08.033910Z"
    }
   },
   "outputs": [],
   "source": [
    "#predict y values\n",
    "y_pred = rf_classifier.predict(x_test)"
   ]
  },
  {
   "cell_type": "code",
   "execution_count": null,
   "metadata": {
    "execution": {
     "iopub.execute_input": "2023-09-22T11:45:08.046027Z",
     "iopub.status.busy": "2023-09-22T11:45:08.045581Z",
     "iopub.status.idle": "2023-09-22T11:45:08.064536Z",
     "shell.execute_reply": "2023-09-22T11:45:08.063717Z",
     "shell.execute_reply.started": "2023-09-22T11:45:08.045985Z"
    }
   },
   "outputs": [],
   "source": [
    "#calculate and print confusion matrix\n",
    "print('Confusion Matrix:')\n",
    "print(confusion_matrix(y_test, y_pred))\n",
    "\n",
    "#print classification report\n",
    "print('Classification Report:')\n",
    "print(classification_report(y_test, y_pred))\n",
    "print(accuracy_score(y_test,y_pred))"
   ]
  },
  {
   "cell_type": "code",
   "execution_count": null,
   "metadata": {},
   "outputs": [],
   "source": []
  }
 ],
 "metadata": {
  "kernelspec": {
   "display_name": "Python 3",
   "language": "python",
   "name": "python3"
  },
  "language_info": {
   "codemirror_mode": {
    "name": "ipython",
    "version": 3
   },
   "file_extension": ".py",
   "mimetype": "text/x-python",
   "name": "python",
   "nbconvert_exporter": "python",
   "pygments_lexer": "ipython3",
   "version": "3.7.3"
  }
 },
 "nbformat": 4,
 "nbformat_minor": 4
}
